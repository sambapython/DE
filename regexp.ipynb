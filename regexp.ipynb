{
 "cells": [
  {
   "cell_type": "code",
   "execution_count": 4,
   "id": "6fc1a57c-f7c2-4d53-a99f-90fefbf666ee",
   "metadata": {},
   "outputs": [
    {
     "data": {
      "text/plain": [
       "['Chennai']"
      ]
     },
     "execution_count": 4,
     "metadata": {},
     "output_type": "execute_result"
    }
   ],
   "source": [
    "import re\n",
    "s=\"Chennai\"\n",
    "re.findall(\"^[cCbB].+?[iIeE]$\",s)"
   ]
  },
  {
   "cell_type": "code",
   "execution_count": 5,
   "id": "180b6303-b927-4787-adf8-425be5f4c36a",
   "metadata": {},
   "outputs": [
    {
     "data": {
      "text/plain": [
       "['banglore']"
      ]
     },
     "execution_count": 5,
     "metadata": {},
     "output_type": "execute_result"
    }
   ],
   "source": [
    "s=\"banglore\"\n",
    "re.findall(\"^[cCbB].+?[iIeE]$\",s)"
   ]
  },
  {
   "cell_type": "code",
   "execution_count": 6,
   "id": "187fb570-0a6a-4215-a23c-e1d105afb5bf",
   "metadata": {},
   "outputs": [
    {
     "data": {
      "text/plain": [
       "[]"
      ]
     },
     "execution_count": 6,
     "metadata": {},
     "output_type": "execute_result"
    }
   ],
   "source": [
    "s=\"Hyderbad\"\n",
    "re.findall(\"^[cCbB].+?[iIeE]$\",s)"
   ]
  },
  {
   "cell_type": "code",
   "execution_count": 7,
   "id": "307b2d1f-34dc-42fd-a0b7-a02e3e32a32a",
   "metadata": {},
   "outputs": [
    {
     "data": {
      "text/plain": [
       "[]"
      ]
     },
     "execution_count": 7,
     "metadata": {},
     "output_type": "execute_result"
    }
   ],
   "source": [
    "s=\"Pune\"\n",
    "re.findall(\"^[cCbB].+?[iIeE]$\",s)"
   ]
  },
  {
   "cell_type": "code",
   "execution_count": 8,
   "id": "c80a084e-6d11-4ef5-88d2-b0998b039b19",
   "metadata": {},
   "outputs": [],
   "source": [
    "from pyspark.sql import SparkSession\n",
    "import pandas as pd\n",
    "from datetime import date, datetime\n",
    "spark = SparkSession.builder.getOrCreate()\n",
    "from pyspark.sql import functions\n",
    "df =spark.read.csv('data\\\\joins\\\\user_transactions.csv', header=True, inferSchema=True)"
   ]
  },
  {
   "cell_type": "code",
   "execution_count": 11,
   "id": "816b222f-d5bc-4fb7-9e58-0f6861f73e2d",
   "metadata": {},
   "outputs": [
    {
     "name": "stdout",
     "output_type": "stream",
     "text": [
      "+--------------+-------+------+---------+----------------+------------+\n",
      "|transaction_id|user_id|amount| location|transaction_time|reg_location|\n",
      "+--------------+-------+------+---------+----------------+------------+\n",
      "|           201|      1|   500|Hyderabad|10-03-2025 12:00|            |\n",
      "|           202|      1|   700|Hyderabad|10-03-2025 12:04|            |\n",
      "|           203|      2|   200|Hyderabad|10-03-2025 14:00|            |\n",
      "|           204|      2|   250|  Chennai|10-03-2025 14:01|     Chennai|\n",
      "|           205|      3|  1000| Banglore|10-03-2025 15:30|    Banglore|\n",
      "|           206|      3|  1500|Hyderabad|10-03-2025 15:34|            |\n",
      "|           207|      3|  1000| Banglore|10-03-2025 15:30|    Banglore|\n",
      "|           208|      3|  1500|Hyderabad|10-03-2025 15:34|            |\n",
      "|           209|      1|   500|Hyderabad|10-03-2025 12:00|            |\n",
      "|           210|      1|   700|Hyderabad|10-03-2025 12:04|            |\n",
      "+--------------+-------+------+---------+----------------+------------+\n",
      "\n"
     ]
    }
   ],
   "source": [
    "from pyspark.sql import functions as f\n",
    "df =spark.read.csv('data\\\\joins\\\\user_transactions.csv', header=True, inferSchema=True)\n",
    "df.withColumn('reg_location', f.regexp_extract('location','^[bcBC].+[eEiI]$',0)).show()"
   ]
  },
  {
   "cell_type": "code",
   "execution_count": null,
   "id": "7b4ad1f5-ee32-46b5-b191-249d1f106430",
   "metadata": {},
   "outputs": [],
   "source": []
  }
 ],
 "metadata": {
  "kernelspec": {
   "display_name": "Python 3 (ipykernel)",
   "language": "python",
   "name": "python3"
  },
  "language_info": {
   "codemirror_mode": {
    "name": "ipython",
    "version": 3
   },
   "file_extension": ".py",
   "mimetype": "text/x-python",
   "name": "python",
   "nbconvert_exporter": "python",
   "pygments_lexer": "ipython3",
   "version": "3.12.7"
  }
 },
 "nbformat": 4,
 "nbformat_minor": 5
}
