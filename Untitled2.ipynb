{
 "cells": [
  {
   "cell_type": "code",
   "execution_count": 1,
   "id": "58ea1d72-01b6-46cd-9424-70b0c9fcac47",
   "metadata": {},
   "outputs": [
    {
     "name": "stdout",
     "output_type": "stream",
     "text": [
      "123abc213\n"
     ]
    }
   ],
   "source": [
    "s=\"123abc213\"\n",
    "print(s.strip())"
   ]
  },
  {
   "cell_type": "code",
   "execution_count": 2,
   "id": "40bbc0eb-e0e2-407c-b16b-3d123cbf9b6e",
   "metadata": {},
   "outputs": [
    {
     "name": "stdout",
     "output_type": "stream",
     "text": [
      "123abc21\n"
     ]
    }
   ],
   "source": [
    "s=\"123abc213\"\n",
    "print(s.strip(\"3\"))"
   ]
  },
  {
   "cell_type": "code",
   "execution_count": 3,
   "id": "8e2f9c69-5396-40f0-b5d1-d64723a13c62",
   "metadata": {},
   "outputs": [
    {
     "name": "stdout",
     "output_type": "stream",
     "text": [
      "23abc2\n"
     ]
    }
   ],
   "source": [
    "s=\"123abc213\"\n",
    "print(s.strip(\"31\"))"
   ]
  },
  {
   "cell_type": "code",
   "execution_count": 4,
   "id": "09047f29-5e27-4b33-915f-a350ff83254d",
   "metadata": {},
   "outputs": [
    {
     "name": "stdout",
     "output_type": "stream",
     "text": [
      "abc\n"
     ]
    }
   ],
   "source": [
    "s=\"123abc213\"\n",
    "print(s.strip(\"312\"))"
   ]
  },
  {
   "cell_type": "code",
   "execution_count": 5,
   "id": "03491b5b-b96f-4072-8774-9eff6ebdc1b6",
   "metadata": {},
   "outputs": [
    {
     "name": "stdout",
     "output_type": "stream",
     "text": [
      "['__add__', '__class__', '__contains__', '__delattr__', '__dir__', '__doc__', '__eq__', '__format__', '__ge__', '__getattribute__', '__getitem__', '__getnewargs__', '__getstate__', '__gt__', '__hash__', '__init__', '__init_subclass__', '__iter__', '__le__', '__len__', '__lt__', '__mod__', '__mul__', '__ne__', '__new__', '__reduce__', '__reduce_ex__', '__repr__', '__rmod__', '__rmul__', '__setattr__', '__sizeof__', '__str__', '__subclasshook__', 'capitalize', 'casefold', 'center', 'count', 'encode', 'endswith', 'expandtabs', 'find', 'format', 'format_map', 'index', 'isalnum', 'isalpha', 'isascii', 'isdecimal', 'isdigit', 'isidentifier', 'islower', 'isnumeric', 'isprintable', 'isspace', 'istitle', 'isupper', 'join', 'ljust', 'lower', 'lstrip', 'maketrans', 'partition', 'removeprefix', 'removesuffix', 'replace', 'rfind', 'rindex', 'rjust', 'rpartition', 'rsplit', 'rstrip', 'split', 'splitlines', 'startswith', 'strip', 'swapcase', 'title', 'translate', 'upper', 'zfill']\n"
     ]
    }
   ],
   "source": [
    "print(dir(s))"
   ]
  },
  {
   "cell_type": "code",
   "execution_count": 8,
   "id": "5f4cf408-4474-495a-9677-3160791de4da",
   "metadata": {},
   "outputs": [
    {
     "name": "stdout",
     "output_type": "stream",
     "text": [
      "abc\n",
      "       abc\n"
     ]
    }
   ],
   "source": [
    "s=\"abc\"\n",
    "print(s)\n",
    "print(s.rjust(10))"
   ]
  },
  {
   "cell_type": "code",
   "execution_count": 10,
   "id": "89e585a5-a4b9-48bd-b38f-a5f1cc1be5f9",
   "metadata": {},
   "outputs": [
    {
     "name": "stdout",
     "output_type": "stream",
     "text": [
      "abc\n",
      "$$$$$$$abc\n"
     ]
    }
   ],
   "source": [
    "s=\"abc\"\n",
    "print(s)\n",
    "print(s.rjust(10,\"$\"))"
   ]
  },
  {
   "cell_type": "code",
   "execution_count": 11,
   "id": "e295aa92-30b2-4237-ac94-d1a51d31e280",
   "metadata": {},
   "outputs": [
    {
     "name": "stdout",
     "output_type": "stream",
     "text": [
      "abc\n",
      "abc\n"
     ]
    }
   ],
   "source": [
    "s=\"abc\"\n",
    "print(s)\n",
    "print(s.rjust(3,\"$\"))"
   ]
  },
  {
   "cell_type": "code",
   "execution_count": 12,
   "id": "8ea0aab9-7cce-4193-bca6-11e1ba77f4ed",
   "metadata": {},
   "outputs": [
    {
     "name": "stdout",
     "output_type": "stream",
     "text": [
      "abc\n",
      "$abc\n"
     ]
    }
   ],
   "source": [
    "s=\"abc\"\n",
    "print(s)\n",
    "print(s.rjust(4,\"$\"))"
   ]
  },
  {
   "cell_type": "code",
   "execution_count": 13,
   "id": "7f9a22f3-02e1-44e6-b76e-408e10081b18",
   "metadata": {},
   "outputs": [
    {
     "name": "stdout",
     "output_type": "stream",
     "text": [
      "abc\n",
      "$$abc\n"
     ]
    }
   ],
   "source": [
    "s=\"abc\"\n",
    "print(s)\n",
    "print(s.rjust(5,\"$\"))"
   ]
  },
  {
   "cell_type": "code",
   "execution_count": 14,
   "id": "6b321c21-f070-4b6a-baa4-ec7338c08460",
   "metadata": {},
   "outputs": [
    {
     "name": "stdout",
     "output_type": "stream",
     "text": [
      "abc\n",
      "abc\n"
     ]
    }
   ],
   "source": [
    "s=\"abc\"\n",
    "print(s)\n",
    "print(s.rjust(2,\"$\"))"
   ]
  },
  {
   "cell_type": "code",
   "execution_count": 17,
   "id": "ad070e19-4d8f-44a0-8763-939f4bd3902e",
   "metadata": {},
   "outputs": [
    {
     "name": "stdout",
     "output_type": "stream",
     "text": [
      "['Laptop', 'Mouse', 'Keyboard', 'Smartphone', 'Earbuds']\n",
      "['Laptop', 'Mouse', 'Keyboard;Smartphone;Earbuds']\n",
      "['Laptop;Mouse;Keyboard', 'Smartphone', 'Earbuds']\n"
     ]
    }
   ],
   "source": [
    "s=\"Laptop;Mouse;Keyboard;Smartphone;Earbuds\"\n",
    "print(s.split(\";\"))\n",
    "print(s.split(\";\",2))\n",
    "print(s.rsplit(\";\",2))\n",
    "\n"
   ]
  },
  {
   "cell_type": "code",
   "execution_count": 18,
   "id": "9d810966-14c3-4498-9b77-c6bf2f41b6da",
   "metadata": {},
   "outputs": [
    {
     "data": {
      "text/plain": [
       "\u001b[1;31mSignature:\u001b[0m \u001b[0ms\u001b[0m\u001b[1;33m.\u001b[0m\u001b[0msplit\u001b[0m\u001b[1;33m(\u001b[0m\u001b[0msep\u001b[0m\u001b[1;33m=\u001b[0m\u001b[1;32mNone\u001b[0m\u001b[1;33m,\u001b[0m \u001b[0mmaxsplit\u001b[0m\u001b[1;33m=\u001b[0m\u001b[1;33m-\u001b[0m\u001b[1;36m1\u001b[0m\u001b[1;33m)\u001b[0m\u001b[1;33m\u001b[0m\u001b[1;33m\u001b[0m\u001b[0m\n",
       "\u001b[1;31mDocstring:\u001b[0m\n",
       "Return a list of the substrings in the string, using sep as the separator string.\n",
       "\n",
       "  sep\n",
       "    The separator used to split the string.\n",
       "\n",
       "    When set to None (the default value), will split on any whitespace\n",
       "    character (including \\n \\r \\t \\f and spaces) and will discard\n",
       "    empty strings from the result.\n",
       "  maxsplit\n",
       "    Maximum number of splits.\n",
       "    -1 (the default value) means no limit.\n",
       "\n",
       "Splitting starts at the front of the string and works to the end.\n",
       "\n",
       "Note, str.split() is mainly useful for data that has been intentionally\n",
       "delimited.  With natural text that includes punctuation, consider using\n",
       "the regular expression module.\n",
       "\u001b[1;31mType:\u001b[0m      builtin_function_or_method"
      ]
     },
     "metadata": {},
     "output_type": "display_data"
    }
   ],
   "source": [
    "s.split?"
   ]
  },
  {
   "cell_type": "code",
   "execution_count": 19,
   "id": "d67dcbb7-b61f-4e29-b1d2-ae92790cb03d",
   "metadata": {},
   "outputs": [
    {
     "name": "stdout",
     "output_type": "stream",
     "text": [
      "['Laptop', 'Mouse;Keyboard;Smartphone;Earbuds']\n",
      "['Laptop', 'Mouse', 'Keyboard;Smartphone;Earbuds']\n",
      "['Laptop;Mouse;Keyboard', 'Smartphone', 'Earbuds']\n"
     ]
    }
   ],
   "source": [
    "s=\"Laptop;Mouse;Keyboard;Smartphone;Earbuds\"\n",
    "print(s.split(\";\",1))\n",
    "print(s.split(\";\",2))\n",
    "print(s.rsplit(\";\",2))\n",
    "\n"
   ]
  },
  {
   "cell_type": "code",
   "execution_count": null,
   "id": "4fc99bf4-0d78-4e27-9ed4-ca7f4f7bd4a3",
   "metadata": {},
   "outputs": [],
   "source": []
  }
 ],
 "metadata": {
  "kernelspec": {
   "display_name": "Python 3 (ipykernel)",
   "language": "python",
   "name": "python3"
  },
  "language_info": {
   "codemirror_mode": {
    "name": "ipython",
    "version": 3
   },
   "file_extension": ".py",
   "mimetype": "text/x-python",
   "name": "python",
   "nbconvert_exporter": "python",
   "pygments_lexer": "ipython3",
   "version": "3.12.7"
  }
 },
 "nbformat": 4,
 "nbformat_minor": 5
}
