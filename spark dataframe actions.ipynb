{
 "cells": [
  {
   "cell_type": "code",
   "execution_count": 1,
   "id": "42bd627b-7099-4ea0-8281-be848686de51",
   "metadata": {},
   "outputs": [],
   "source": [
    "from pyspark.sql import SparkSession\n",
    "from pyspark.sql.functions import col\n",
    "session = SparkSession.builder.getOrCreate()"
   ]
  },
  {
   "cell_type": "code",
   "execution_count": 2,
   "id": "8901502d-137d-48d3-9699-65f2765d2c24",
   "metadata": {},
   "outputs": [],
   "source": [
    "spark = session"
   ]
  },
  {
   "cell_type": "code",
   "execution_count": 3,
   "id": "b8b10bf8-9976-47f8-bd21-48c8a52d7e28",
   "metadata": {},
   "outputs": [
    {
     "name": "stdout",
     "output_type": "stream",
     "text": [
      "+---------+-------+------------+--------+\n",
      "|salary_id| emp_id|salary_month|  amount|\n",
      "+---------+-------+------------+--------+\n",
      "|  4504017|7087500|  2024-09-25|    NULL|\n",
      "|  4504018|7087500|        NULL| 9370.35|\n",
      "|  4504019|   NULL|  2024-11-24| 3679.19|\n",
      "|     NULL|7087500|  2024-12-24|  7730.6|\n",
      "|  4504021|7087520|  2020-02-19|14822.82|\n",
      "|  4504022|7087520|  2020-03-20| 6668.04|\n",
      "|  4504023|7087520|  2020-04-19|  5948.5|\n",
      "|  4504024|7087520|  2020-05-19| 6760.61|\n",
      "|  4504025|7087520|  2020-06-18|12243.51|\n",
      "|  4504026|7087520|  2020-07-18| 3069.33|\n",
      "+---------+-------+------------+--------+\n",
      "only showing top 10 rows\n",
      "\n",
      "None\n"
     ]
    }
   ],
   "source": [
    "df = spark.read.csv(\"data\\\\salary50.txt\", header=True, inferSchema=True)\n",
    "print(df.show(10))"
   ]
  },
  {
   "cell_type": "code",
   "execution_count": 4,
   "id": "05079c6f-d54b-4c04-bd75-bb3d5e3ad76e",
   "metadata": {},
   "outputs": [
    {
     "name": "stdout",
     "output_type": "stream",
     "text": [
      "DataFrame[emp_id: int, salary_month: date, amount: double]\n"
     ]
    }
   ],
   "source": [
    "df = spark.read.csv(\"data\\\\salary50.txt\", header=True, inferSchema=True)\n",
    "req_df = df.select(\"emp_id\",\"salary_month\",\"amount\")\n",
    "print(req_df)"
   ]
  },
  {
   "cell_type": "code",
   "execution_count": 5,
   "id": "1bf66663-a0d3-4eec-9b17-20705b47744d",
   "metadata": {},
   "outputs": [
    {
     "name": "stdout",
     "output_type": "stream",
     "text": [
      "+-------+------------+--------+\n",
      "| emp_id|salary_month|  amount|\n",
      "+-------+------------+--------+\n",
      "|7087500|  2024-09-25|    NULL|\n",
      "|7087500|        NULL| 9370.35|\n",
      "|   NULL|  2024-11-24| 3679.19|\n",
      "|7087500|  2024-12-24|  7730.6|\n",
      "|7087520|  2020-02-19|14822.82|\n",
      "|7087520|  2020-03-20| 6668.04|\n",
      "|7087520|  2020-04-19|  5948.5|\n",
      "|7087520|  2020-05-19| 6760.61|\n",
      "|7087520|  2020-06-18|12243.51|\n",
      "|7087520|  2020-07-18| 3069.33|\n",
      "+-------+------------+--------+\n",
      "only showing top 10 rows\n",
      "\n"
     ]
    }
   ],
   "source": [
    "df = spark.read.csv(\"data\\\\salary50.txt\", header=True, inferSchema=True)\n",
    "req_df = df.select(\"emp_id\",\"salary_month\",\"amount\")\n",
    "req_df.show(10)"
   ]
  },
  {
   "cell_type": "code",
   "execution_count": 6,
   "id": "d2228cb2-d20d-404b-b60b-5dc68b788ff3",
   "metadata": {},
   "outputs": [
    {
     "name": "stdout",
     "output_type": "stream",
     "text": [
      "['__class__', '__delattr__', '__dict__', '__dir__', '__doc__', '__eq__', '__format__', '__ge__', '__getattr__', '__getattribute__', '__getitem__', '__getstate__', '__gt__', '__hash__', '__init__', '__init_subclass__', '__le__', '__lt__', '__module__', '__ne__', '__new__', '__reduce__', '__reduce_ex__', '__repr__', '__setattr__', '__sizeof__', '__str__', '__subclasshook__', '__weakref__', '_collect_as_arrow', '_ipython_key_completions_', '_jcols', '_jdf', '_jmap', '_joinAsOf', '_jseq', '_lazy_rdd', '_repr_html_', '_sc', '_schema', '_session', '_show_string', '_sort_cols', '_sql_ctx', '_support_repr_html', 'agg', 'alias', 'amount', 'approxQuantile', 'cache', 'checkpoint', 'coalesce', 'colRegex', 'collect', 'columns', 'corr', 'count', 'cov', 'createGlobalTempView', 'createOrReplaceGlobalTempView', 'createOrReplaceTempView', 'createTempView', 'crossJoin', 'crosstab', 'cube', 'describe', 'distinct', 'drop', 'dropDuplicates', 'dropDuplicatesWithinWatermark', 'drop_duplicates', 'dropna', 'dtypes', 'emp_id', 'exceptAll', 'explain', 'fillna', 'filter', 'first', 'foreach', 'foreachPartition', 'freqItems', 'groupBy', 'groupby', 'head', 'hint', 'inputFiles', 'intersect', 'intersectAll', 'isEmpty', 'isLocal', 'isStreaming', 'is_cached', 'join', 'limit', 'localCheckpoint', 'mapInArrow', 'mapInPandas', 'melt', 'na', 'observe', 'offset', 'orderBy', 'pandas_api', 'persist', 'printSchema', 'randomSplit', 'rdd', 'registerTempTable', 'repartition', 'repartitionByRange', 'replace', 'rollup', 'salary_month', 'sameSemantics', 'sample', 'sampleBy', 'schema', 'select', 'selectExpr', 'semanticHash', 'show', 'sort', 'sortWithinPartitions', 'sparkSession', 'sql_ctx', 'stat', 'storageLevel', 'subtract', 'summary', 'tail', 'take', 'to', 'toDF', 'toJSON', 'toLocalIterator', 'toPandas', 'to_koalas', 'to_pandas_on_spark', 'transform', 'union', 'unionAll', 'unionByName', 'unpersist', 'unpivot', 'where', 'withColumn', 'withColumnRenamed', 'withColumns', 'withColumnsRenamed', 'withMetadata', 'withWatermark', 'write', 'writeStream', 'writeTo']\n"
     ]
    }
   ],
   "source": [
    "print(dir(req_df))"
   ]
  },
  {
   "cell_type": "code",
   "execution_count": 7,
   "id": "6f44dcab-23af-4aae-bfc8-a0b3037b5b0a",
   "metadata": {},
   "outputs": [
    {
     "name": "stdout",
     "output_type": "stream",
     "text": [
      "['emp_id', 'salary_month', 'amount']\n"
     ]
    }
   ],
   "source": [
    "#emp_id|salary_month|amount\n",
    "# spark dataframes are IMMUTABLE\n",
    "req_df.withColumnRenamed(\"salary_month\",\"date\")\n",
    "print(req_df.columns)"
   ]
  },
  {
   "cell_type": "code",
   "execution_count": 8,
   "id": "9c32cdad-fc91-49be-bd48-699e8ad20a2b",
   "metadata": {},
   "outputs": [
    {
     "name": "stdout",
     "output_type": "stream",
     "text": [
      "['emp_id', 'date', 'amount']\n"
     ]
    }
   ],
   "source": [
    "#emp_id|salary_month|amount\n",
    "# spark dataframes are IMMUTABLE\n",
    "req_df=req_df.withColumnRenamed(\"salary_month\",\"date\")\n",
    "print(req_df.columns)"
   ]
  },
  {
   "cell_type": "code",
   "execution_count": 9,
   "id": "75c81f5f-a1fd-484f-b8f1-94dbf9c28559",
   "metadata": {},
   "outputs": [
    {
     "name": "stdout",
     "output_type": "stream",
     "text": [
      "+-------+----------+--------+\n",
      "| emp_id|      date|  amount|\n",
      "+-------+----------+--------+\n",
      "|7087500|2024-09-25|    NULL|\n",
      "|7087500|      NULL| 9370.35|\n",
      "|   NULL|2024-11-24| 3679.19|\n",
      "|7087500|2024-12-24|  7730.6|\n",
      "|7087520|2020-02-19|14822.82|\n",
      "|7087520|2020-03-20| 6668.04|\n",
      "|7087520|2020-04-19|  5948.5|\n",
      "|7087520|2020-05-19| 6760.61|\n",
      "|7087520|2020-06-18|12243.51|\n",
      "|7087520|2020-07-18| 3069.33|\n",
      "+-------+----------+--------+\n",
      "only showing top 10 rows\n",
      "\n"
     ]
    }
   ],
   "source": [
    "req_df.show(10)"
   ]
  },
  {
   "cell_type": "code",
   "execution_count": 10,
   "id": "d6cfb53c-4f80-4052-ba87-2a209429b249",
   "metadata": {},
   "outputs": [
    {
     "name": "stdout",
     "output_type": "stream",
     "text": [
      "+-------+----------+--------+\n",
      "| emp_id|      Date|  amount|\n",
      "+-------+----------+--------+\n",
      "|7087500|2024-09-25|    NULL|\n",
      "|7087500|      NULL| 9370.35|\n",
      "|   NULL|2024-11-24| 3679.19|\n",
      "|7087500|2024-12-24|  7730.6|\n",
      "|7087520|2020-02-19|14822.82|\n",
      "|7087520|2020-03-20| 6668.04|\n",
      "|7087520|2020-04-19|  5948.5|\n",
      "|7087520|2020-05-19| 6760.61|\n",
      "|7087520|2020-06-18|12243.51|\n",
      "|7087520|2020-07-18| 3069.33|\n",
      "+-------+----------+--------+\n",
      "only showing top 10 rows\n",
      "\n"
     ]
    }
   ],
   "source": [
    "req_df.withColumnRenamed(\"date\",\"Date\").show(10)"
   ]
  },
  {
   "cell_type": "code",
   "execution_count": 11,
   "id": "d8dd9b35-3264-4a1e-9423-aa383e73ff6c",
   "metadata": {},
   "outputs": [
    {
     "name": "stdout",
     "output_type": "stream",
     "text": [
      "+-------+----------+--------+\n",
      "| emp_id|      date|  amount|\n",
      "+-------+----------+--------+\n",
      "|7087500|2024-09-25|    NULL|\n",
      "|7087500|      NULL| 9370.35|\n",
      "|   NULL|2024-11-24| 3679.19|\n",
      "|7087500|2024-12-24|  7730.6|\n",
      "|7087520|2020-02-19|14822.82|\n",
      "|7087520|2020-03-20| 6668.04|\n",
      "|7087520|2020-04-19|  5948.5|\n",
      "|7087520|2020-05-19| 6760.61|\n",
      "|7087520|2020-06-18|12243.51|\n",
      "|7087520|2020-07-18| 3069.33|\n",
      "+-------+----------+--------+\n",
      "only showing top 10 rows\n",
      "\n"
     ]
    }
   ],
   "source": [
    "req_df.show(10)"
   ]
  },
  {
   "cell_type": "code",
   "execution_count": 12,
   "id": "53e09cb1-ec59-4393-900f-308382042a5b",
   "metadata": {},
   "outputs": [
    {
     "name": "stdout",
     "output_type": "stream",
     "text": [
      "abcd\n"
     ]
    }
   ],
   "source": [
    "s=\"abcd\"\n",
    "s.upper()\n",
    "print(s)"
   ]
  },
  {
   "cell_type": "code",
   "execution_count": 13,
   "id": "091a5edf-ee97-4c5f-9b98-12e1e2d11a1d",
   "metadata": {},
   "outputs": [
    {
     "name": "stdout",
     "output_type": "stream",
     "text": [
      "ABCD\n"
     ]
    }
   ],
   "source": [
    "s=\"abcd\"\n",
    "s=s.upper()\n",
    "print(s)"
   ]
  },
  {
   "cell_type": "code",
   "execution_count": 14,
   "id": "41b08118-23e0-4d51-8ee7-fa6a2042bbe2",
   "metadata": {},
   "outputs": [
    {
     "ename": "PySparkTypeError",
     "evalue": "[NOT_COLUMN] Argument `col` should be a Column, got str.",
     "output_type": "error",
     "traceback": [
      "\u001b[1;31m---------------------------------------------------------------------------\u001b[0m",
      "\u001b[1;31mPySparkTypeError\u001b[0m                          Traceback (most recent call last)",
      "Cell \u001b[1;32mIn[14], line 1\u001b[0m\n\u001b[1;32m----> 1\u001b[0m req_df\u001b[38;5;241m.\u001b[39mwithColumn(\u001b[38;5;124m\"\u001b[39m\u001b[38;5;124myear\u001b[39m\u001b[38;5;124m\"\u001b[39m, \u001b[38;5;124m\"\u001b[39m\u001b[38;5;124mNULL\u001b[39m\u001b[38;5;124m\"\u001b[39m)\n",
      "File \u001b[1;32m~\\anaconda3\\Lib\\site-packages\\pyspark\\sql\\dataframe.py:5172\u001b[0m, in \u001b[0;36mDataFrame.withColumn\u001b[1;34m(self, colName, col)\u001b[0m\n\u001b[0;32m   5129\u001b[0m \u001b[38;5;250m\u001b[39m\u001b[38;5;124;03m\"\"\"\u001b[39;00m\n\u001b[0;32m   5130\u001b[0m \u001b[38;5;124;03mReturns a new :class:`DataFrame` by adding a column or replacing the\u001b[39;00m\n\u001b[0;32m   5131\u001b[0m \u001b[38;5;124;03mexisting column that has the same name.\u001b[39;00m\n\u001b[1;32m   (...)\u001b[0m\n\u001b[0;32m   5169\u001b[0m \u001b[38;5;124;03m+---+-----+----+\u001b[39;00m\n\u001b[0;32m   5170\u001b[0m \u001b[38;5;124;03m\"\"\"\u001b[39;00m\n\u001b[0;32m   5171\u001b[0m \u001b[38;5;28;01mif\u001b[39;00m \u001b[38;5;129;01mnot\u001b[39;00m \u001b[38;5;28misinstance\u001b[39m(col, Column):\n\u001b[1;32m-> 5172\u001b[0m     \u001b[38;5;28;01mraise\u001b[39;00m PySparkTypeError(\n\u001b[0;32m   5173\u001b[0m         error_class\u001b[38;5;241m=\u001b[39m\u001b[38;5;124m\"\u001b[39m\u001b[38;5;124mNOT_COLUMN\u001b[39m\u001b[38;5;124m\"\u001b[39m,\n\u001b[0;32m   5174\u001b[0m         message_parameters\u001b[38;5;241m=\u001b[39m{\u001b[38;5;124m\"\u001b[39m\u001b[38;5;124marg_name\u001b[39m\u001b[38;5;124m\"\u001b[39m: \u001b[38;5;124m\"\u001b[39m\u001b[38;5;124mcol\u001b[39m\u001b[38;5;124m\"\u001b[39m, \u001b[38;5;124m\"\u001b[39m\u001b[38;5;124marg_type\u001b[39m\u001b[38;5;124m\"\u001b[39m: \u001b[38;5;28mtype\u001b[39m(col)\u001b[38;5;241m.\u001b[39m\u001b[38;5;18m__name__\u001b[39m},\n\u001b[0;32m   5175\u001b[0m     )\n\u001b[0;32m   5176\u001b[0m \u001b[38;5;28;01mreturn\u001b[39;00m DataFrame(\u001b[38;5;28mself\u001b[39m\u001b[38;5;241m.\u001b[39m_jdf\u001b[38;5;241m.\u001b[39mwithColumn(colName, col\u001b[38;5;241m.\u001b[39m_jc), \u001b[38;5;28mself\u001b[39m\u001b[38;5;241m.\u001b[39msparkSession)\n",
      "\u001b[1;31mPySparkTypeError\u001b[0m: [NOT_COLUMN] Argument `col` should be a Column, got str."
     ]
    }
   ],
   "source": [
    "req_df.withColumn(\"year\", \"NULL\")"
   ]
  },
  {
   "cell_type": "code",
   "execution_count": 18,
   "id": "ea6cbfb6-44c0-4420-9aad-f99863c44b96",
   "metadata": {},
   "outputs": [
    {
     "data": {
      "text/plain": [
       "DataFrame[emp_id: int, date: date, amount: double, year: string]"
      ]
     },
     "execution_count": 18,
     "metadata": {},
     "output_type": "execute_result"
    }
   ],
   "source": [
    "from pyspark.sql.functions import lit\n",
    "req_df.withColumn(\"year\", lit(\"NULL\"))"
   ]
  },
  {
   "cell_type": "code",
   "execution_count": 19,
   "id": "1a7e8ed6-49d3-4f24-932a-4fd8e839a46b",
   "metadata": {},
   "outputs": [
    {
     "data": {
      "text/plain": [
       "['emp_id', 'date', 'amount']"
      ]
     },
     "execution_count": 19,
     "metadata": {},
     "output_type": "execute_result"
    }
   ],
   "source": [
    "req_df.columns"
   ]
  },
  {
   "cell_type": "code",
   "execution_count": 20,
   "id": "cc53bb82-b1c3-41ba-8cb1-19f4d8bc193d",
   "metadata": {},
   "outputs": [
    {
     "name": "stdout",
     "output_type": "stream",
     "text": [
      "+-------+----------+--------+----+\n",
      "| emp_id|      date|  amount|year|\n",
      "+-------+----------+--------+----+\n",
      "|7087500|2024-09-25|    NULL|NULL|\n",
      "|7087500|      NULL| 9370.35|NULL|\n",
      "|   NULL|2024-11-24| 3679.19|NULL|\n",
      "|7087500|2024-12-24|  7730.6|NULL|\n",
      "|7087520|2020-02-19|14822.82|NULL|\n",
      "|7087520|2020-03-20| 6668.04|NULL|\n",
      "|7087520|2020-04-19|  5948.5|NULL|\n",
      "|7087520|2020-05-19| 6760.61|NULL|\n",
      "|7087520|2020-06-18|12243.51|NULL|\n",
      "|7087520|2020-07-18| 3069.33|NULL|\n",
      "+-------+----------+--------+----+\n",
      "only showing top 10 rows\n",
      "\n",
      "None\n"
     ]
    }
   ],
   "source": [
    "from pyspark.sql.functions import lit\n",
    "req_df = req_df.withColumn(\"year\", lit(\"NULL\"))\n",
    "print(req_df.show(10))"
   ]
  },
  {
   "cell_type": "code",
   "execution_count": 22,
   "id": "c0a1749d-7121-4664-9159-3d6077094458",
   "metadata": {},
   "outputs": [
    {
     "name": "stdout",
     "output_type": "stream",
     "text": [
      "+-------+----------+--------+----+\n",
      "| emp_id|      date|  amount|year|\n",
      "+-------+----------+--------+----+\n",
      "|7087500|2024-09-25|    NULL|2024|\n",
      "|7087500|      NULL| 9370.35|NULL|\n",
      "|   NULL|2024-11-24| 3679.19|2024|\n",
      "|7087500|2024-12-24|  7730.6|2024|\n",
      "|7087520|2020-02-19|14822.82|2020|\n",
      "|7087520|2020-03-20| 6668.04|2020|\n",
      "|7087520|2020-04-19|  5948.5|2020|\n",
      "|7087520|2020-05-19| 6760.61|2020|\n",
      "|7087520|2020-06-18|12243.51|2020|\n",
      "|7087520|2020-07-18| 3069.33|2020|\n",
      "+-------+----------+--------+----+\n",
      "only showing top 10 rows\n",
      "\n",
      "None\n"
     ]
    }
   ],
   "source": [
    "from pyspark.sql.functions import year\n",
    "req_df = req_df.withColumn(\"year\", year(\"date\"))\n",
    "print(req_df.show(10))"
   ]
  },
  {
   "cell_type": "code",
   "execution_count": 23,
   "id": "16970bbd-858f-4d72-925f-a299055adb09",
   "metadata": {},
   "outputs": [
    {
     "name": "stdout",
     "output_type": "stream",
     "text": [
      "+-------+----------+--------+----+\n",
      "| emp_id|      date|  amount|year|\n",
      "+-------+----------+--------+----+\n",
      "|7087500|2024-09-25|    NULL|2024|\n",
      "|7087500|      NULL| 9370.35|NULL|\n",
      "|   NULL|2024-11-24| 3679.19|2024|\n",
      "|7087500|2024-12-24|  7730.6|2024|\n",
      "|7087520|2020-02-19|14822.82|2020|\n",
      "|7087520|2020-03-20| 6668.04|2020|\n",
      "|7087520|2020-04-19|  5948.5|2020|\n",
      "|7087520|2020-05-19| 6760.61|2020|\n",
      "|7087520|2020-06-18|12243.51|2020|\n",
      "|7087520|2020-07-18| 3069.33|2020|\n",
      "+-------+----------+--------+----+\n",
      "only showing top 10 rows\n",
      "\n",
      "None\n"
     ]
    }
   ],
   "source": [
    "from pyspark.sql.functions import year, col\n",
    "req_df = req_df.withColumn(\"year\", year(col(\"date\")))\n",
    "print(req_df.show(10))"
   ]
  },
  {
   "cell_type": "code",
   "execution_count": 24,
   "id": "3da678db-0a98-4c71-8ecf-d2813bdfc4ec",
   "metadata": {},
   "outputs": [
    {
     "name": "stdout",
     "output_type": "stream",
     "text": [
      "+-------+----+--------+----+\n",
      "| emp_id|date|  amount|year|\n",
      "+-------+----+--------+----+\n",
      "|7087500|2024|    NULL|2024|\n",
      "|7087500|NULL| 9370.35|NULL|\n",
      "|   NULL|2024| 3679.19|2024|\n",
      "|7087500|2024|  7730.6|2024|\n",
      "|7087520|2020|14822.82|2020|\n",
      "|7087520|2020| 6668.04|2020|\n",
      "|7087520|2020|  5948.5|2020|\n",
      "|7087520|2020| 6760.61|2020|\n",
      "|7087520|2020|12243.51|2020|\n",
      "|7087520|2020| 3069.33|2020|\n",
      "+-------+----+--------+----+\n",
      "only showing top 10 rows\n",
      "\n"
     ]
    }
   ],
   "source": [
    "from pyspark.sql.functions import year, col\n",
    "req_df.withColumn(\"date\", year(col(\"date\"))).show(10)"
   ]
  },
  {
   "cell_type": "code",
   "execution_count": 25,
   "id": "823bc1b8-3cad-49f8-82e0-c67ac49275a9",
   "metadata": {},
   "outputs": [
    {
     "data": {
      "text/plain": [
       "50"
      ]
     },
     "execution_count": 25,
     "metadata": {},
     "output_type": "execute_result"
    }
   ],
   "source": [
    "req_df.count()"
   ]
  },
  {
   "cell_type": "code",
   "execution_count": 26,
   "id": "8c434dad-79f0-450d-b1b0-b10ca67644c5",
   "metadata": {},
   "outputs": [
    {
     "data": {
      "text/plain": [
       "['emp_id', 'date', 'amount', 'year']"
      ]
     },
     "execution_count": 26,
     "metadata": {},
     "output_type": "execute_result"
    }
   ],
   "source": [
    "req_df.columns"
   ]
  },
  {
   "cell_type": "code",
   "execution_count": 28,
   "id": "e3582a57-2879-4364-b6e7-74ddc778efe0",
   "metadata": {},
   "outputs": [
    {
     "name": "stdout",
     "output_type": "stream",
     "text": [
      "+------+----+------+----+\n",
      "|emp_id|date|amount|year|\n",
      "+------+----+------+----+\n",
      "+------+----+------+----+\n",
      "\n"
     ]
    }
   ],
   "source": [
    "req_df.filter(col(\"date\")==\"2024\").show()"
   ]
  },
  {
   "cell_type": "code",
   "execution_count": 30,
   "id": "8964bef7-b7d4-4cfc-b510-658779342432",
   "metadata": {},
   "outputs": [
    {
     "data": {
      "text/plain": [
       "[('emp_id', 'int'), ('date', 'date'), ('amount', 'double'), ('year', 'int')]"
      ]
     },
     "execution_count": 30,
     "metadata": {},
     "output_type": "execute_result"
    }
   ],
   "source": [
    "req_df.dtypes"
   ]
  },
  {
   "cell_type": "code",
   "execution_count": 31,
   "id": "fe94fb0b-91c0-43fa-b9d4-61e6485ce01f",
   "metadata": {},
   "outputs": [
    {
     "name": "stdout",
     "output_type": "stream",
     "text": [
      "+-------+----------+--------+----+\n",
      "| emp_id|      date|  amount|year|\n",
      "+-------+----------+--------+----+\n",
      "|7087500|2024-09-25|    NULL|2024|\n",
      "|7087500|      NULL| 9370.35|NULL|\n",
      "|   NULL|2024-11-24| 3679.19|2024|\n",
      "|7087500|2024-12-24|  7730.6|2024|\n",
      "|7087520|2020-02-19|14822.82|2020|\n",
      "|7087520|2020-03-20| 6668.04|2020|\n",
      "|7087520|2020-04-19|  5948.5|2020|\n",
      "|7087520|2020-05-19| 6760.61|2020|\n",
      "|7087520|2020-06-18|12243.51|2020|\n",
      "|7087520|2020-07-18| 3069.33|2020|\n",
      "+-------+----------+--------+----+\n",
      "only showing top 10 rows\n",
      "\n"
     ]
    }
   ],
   "source": [
    "req_df.show(10)"
   ]
  },
  {
   "cell_type": "code",
   "execution_count": 32,
   "id": "fa336af3-ffb6-4d3a-a7dc-b0667a45724b",
   "metadata": {},
   "outputs": [
    {
     "name": "stdout",
     "output_type": "stream",
     "text": [
      "+-------+----------+-------+----+\n",
      "| emp_id|      date| amount|year|\n",
      "+-------+----------+-------+----+\n",
      "|7087500|2024-09-25|   NULL|2024|\n",
      "|   NULL|2024-11-24|3679.19|2024|\n",
      "|7087500|2024-12-24| 7730.6|2024|\n",
      "+-------+----------+-------+----+\n",
      "\n"
     ]
    }
   ],
   "source": [
    "req_df.filter(col(\"year\")==2024).show()"
   ]
  },
  {
   "cell_type": "code",
   "execution_count": 33,
   "id": "6e5590e5-d56f-4e63-a588-75b4f2db261d",
   "metadata": {},
   "outputs": [
    {
     "name": "stdout",
     "output_type": "stream",
     "text": [
      "+-------+----------+------+----+\n",
      "| emp_id|      date|amount|year|\n",
      "+-------+----------+------+----+\n",
      "|7087500|2024-09-25|  NULL|2024|\n",
      "+-------+----------+------+----+\n",
      "\n"
     ]
    }
   ],
   "source": [
    "req_df.filter((col(\"year\")==2024) & (col(\"amount\").isNull())).show()"
   ]
  },
  {
   "cell_type": "code",
   "execution_count": 34,
   "id": "f5760c78-97a6-45f0-8c22-97fb60096256",
   "metadata": {},
   "outputs": [
    {
     "name": "stdout",
     "output_type": "stream",
     "text": [
      "['__add__', '__and__', '__bool__', '__class__', '__contains__', '__delattr__', '__dict__', '__dir__', '__div__', '__doc__', '__eq__', '__format__', '__ge__', '__getattr__', '__getattribute__', '__getitem__', '__getstate__', '__gt__', '__hash__', '__init__', '__init_subclass__', '__invert__', '__iter__', '__le__', '__lt__', '__mod__', '__module__', '__mul__', '__ne__', '__neg__', '__new__', '__nonzero__', '__or__', '__pow__', '__radd__', '__rand__', '__rdiv__', '__reduce__', '__reduce_ex__', '__repr__', '__rmod__', '__rmul__', '__ror__', '__rpow__', '__rsub__', '__rtruediv__', '__setattr__', '__sizeof__', '__str__', '__sub__', '__subclasshook__', '__truediv__', '__weakref__', '_asc_doc', '_asc_nulls_first_doc', '_asc_nulls_last_doc', '_bitwiseAND_doc', '_bitwiseOR_doc', '_bitwiseXOR_doc', '_contains_doc', '_desc_doc', '_desc_nulls_first_doc', '_desc_nulls_last_doc', '_endswith_doc', '_eqNullSafe_doc', '_isNotNull_doc', '_isNull_doc', '_jc', '_startswith_doc', 'alias', 'asc', 'asc_nulls_first', 'asc_nulls_last', 'astype', 'between', 'bitwiseAND', 'bitwiseOR', 'bitwiseXOR', 'cast', 'contains', 'desc', 'desc_nulls_first', 'desc_nulls_last', 'dropFields', 'endswith', 'eqNullSafe', 'getField', 'getItem', 'ilike', 'isNotNull', 'isNull', 'isin', 'like', 'name', 'otherwise', 'over', 'rlike', 'startswith', 'substr', 'when', 'withField']\n"
     ]
    }
   ],
   "source": [
    "print(dir(req_df.amount))"
   ]
  },
  {
   "cell_type": "code",
   "execution_count": 35,
   "id": "a1316a6a-c3be-479e-9069-178c05189096",
   "metadata": {},
   "outputs": [
    {
     "name": "stdout",
     "output_type": "stream",
     "text": [
      "+-------+----------+-------+----+\n",
      "| emp_id|      date| amount|year|\n",
      "+-------+----------+-------+----+\n",
      "|   NULL|2024-11-24|3679.19|2024|\n",
      "|7087500|2024-12-24| 7730.6|2024|\n",
      "+-------+----------+-------+----+\n",
      "\n"
     ]
    }
   ],
   "source": [
    "req_df.filter((col(\"year\")==2024) & (col(\"amount\").isNotNull())).show()"
   ]
  },
  {
   "cell_type": "code",
   "execution_count": 36,
   "id": "39764cc3-13fa-4c36-bbca-e4a926e76205",
   "metadata": {},
   "outputs": [
    {
     "name": "stdout",
     "output_type": "stream",
     "text": [
      "+-------+----------+--------+----+\n",
      "| emp_id|      date|  amount|year|\n",
      "+-------+----------+--------+----+\n",
      "|   NULL|2024-11-24| 3679.19|2024|\n",
      "|7087500|2024-12-24|  7730.6|2024|\n",
      "|7087520|2021-01-14|11684.05|2021|\n",
      "|7087520|2021-02-13|13201.85|2021|\n",
      "|7087520|2021-03-15|  5000.9|2021|\n",
      "|7087520|2021-04-14| 7511.35|2021|\n",
      "|7087520|2021-05-14|11958.64|2021|\n",
      "|7087520|2021-06-13| 3903.62|2021|\n",
      "|7087520|2021-07-13| 5822.87|2021|\n",
      "|7087520|2021-08-12| 9035.41|2021|\n",
      "|7087520|2021-09-11| 5094.17|2021|\n",
      "|7087520|2021-10-11| 9397.57|2021|\n",
      "|7087520|2021-11-10|12942.52|2021|\n",
      "|7087520|2021-12-10| 4074.86|2021|\n",
      "+-------+----------+--------+----+\n",
      "\n"
     ]
    }
   ],
   "source": [
    "req_df.filter((col(\"year\").isin(2024,2021)) & (col(\"amount\").isNotNull())).show()"
   ]
  },
  {
   "cell_type": "code",
   "execution_count": null,
   "id": "dc640ee0-101d-42d5-9a04-0f21a54ef5c0",
   "metadata": {},
   "outputs": [],
   "source": []
  }
 ],
 "metadata": {
  "kernelspec": {
   "display_name": "Python 3 (ipykernel)",
   "language": "python",
   "name": "python3"
  },
  "language_info": {
   "codemirror_mode": {
    "name": "ipython",
    "version": 3
   },
   "file_extension": ".py",
   "mimetype": "text/x-python",
   "name": "python",
   "nbconvert_exporter": "python",
   "pygments_lexer": "ipython3",
   "version": "3.12.7"
  }
 },
 "nbformat": 4,
 "nbformat_minor": 5
}
