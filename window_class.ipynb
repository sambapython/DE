{
 "cells": [
  {
   "cell_type": "code",
   "execution_count": 2,
   "id": "fe8e8b23-fe55-4961-bc6c-bf8541d5df9d",
   "metadata": {},
   "outputs": [],
   "source": [
    "from pyspark.sql import SparkSession\n",
    "import pandas as pd\n",
    "from datetime import date, datetime\n",
    "spark = SparkSession.builder.getOrCreate()\n",
    "from pyspark.sql import functions\n",
    "df =spark.read.csv('data\\\\joins\\\\user_transactions.csv', header=True, inferSchema=True)"
   ]
  },
  {
   "cell_type": "code",
   "execution_count": 3,
   "id": "5ecd806a-a36e-47d8-bab5-9a2d9943ac66",
   "metadata": {},
   "outputs": [
    {
     "name": "stdout",
     "output_type": "stream",
     "text": [
      "+--------------+-------+------+---------+----------------+\n",
      "|transaction_id|user_id|amount| location|transaction_time|\n",
      "+--------------+-------+------+---------+----------------+\n",
      "|           201|      1|   500|Hyderabad|10-03-2025 12:00|\n",
      "|           202|      1|   700|Hyderabad|10-03-2025 12:04|\n",
      "|           203|      2|   200|Hyderabad|10-03-2025 14:00|\n",
      "|           204|      2|   250|  Chennai|10-03-2025 14:01|\n",
      "|           205|      3|  1000| Banglore|10-03-2025 15:30|\n",
      "|           206|      3|  1500|Hyderabad|10-03-2025 15:34|\n",
      "+--------------+-------+------+---------+----------------+\n",
      "\n"
     ]
    }
   ],
   "source": [
    "df.show()"
   ]
  },
  {
   "cell_type": "code",
   "execution_count": 4,
   "id": "4e4a8441-5f29-442c-9381-9efad68c2cb4",
   "metadata": {},
   "outputs": [
    {
     "name": "stdout",
     "output_type": "stream",
     "text": [
      "+-----------+\n",
      "|sum(amount)|\n",
      "+-----------+\n",
      "|       4150|\n",
      "+-----------+\n",
      "\n"
     ]
    }
   ],
   "source": [
    "from pyspark.sql import functions as f\n",
    "df.agg(f.sum('amount')).show()"
   ]
  },
  {
   "cell_type": "code",
   "execution_count": 5,
   "id": "e9eb4200-4188-4232-982e-0df3c2e33605",
   "metadata": {},
   "outputs": [
    {
     "name": "stdout",
     "output_type": "stream",
     "text": [
      "+-----------+\n",
      "|sum(amount)|\n",
      "+-----------+\n",
      "|       4150|\n",
      "+-----------+\n",
      "\n",
      "+-------+-----------+\n",
      "|user_id|sum(amount)|\n",
      "+-------+-----------+\n",
      "|      1|       1200|\n",
      "|      3|       2500|\n",
      "|      2|        450|\n",
      "+-------+-----------+\n",
      "\n"
     ]
    }
   ],
   "source": [
    "df.agg(f.sum('amount')).show()\n",
    "df.groupBy('user_id').agg(f.sum('amount')).show()"
   ]
  },
  {
   "cell_type": "code",
   "execution_count": 10,
   "id": "429e68fc-bc07-4cdd-8f30-939c1877b167",
   "metadata": {},
   "outputs": [
    {
     "name": "stdout",
     "output_type": "stream",
     "text": [
      "+-----------+\n",
      "|sum(amount)|\n",
      "+-----------+\n",
      "|       4150|\n",
      "+-----------+\n",
      "\n",
      "+-------+-----------+\n",
      "|user_id|sum(amount)|\n",
      "+-------+-----------+\n",
      "|      1|       1200|\n",
      "|      3|       2500|\n",
      "|      2|        450|\n",
      "+-------+-----------+\n",
      "\n",
      "+--------------+-------+------+---------+----------------+--------------+\n",
      "|transaction_id|user_id|amount| location|transaction_time|uer_sum_amount|\n",
      "+--------------+-------+------+---------+----------------+--------------+\n",
      "|           201|      1|   500|Hyderabad|10-03-2025 12:00|          1200|\n",
      "|           202|      1|   700|Hyderabad|10-03-2025 12:04|          1200|\n",
      "|           203|      2|   200|Hyderabad|10-03-2025 14:00|           450|\n",
      "|           204|      2|   250|  Chennai|10-03-2025 14:01|           450|\n",
      "|           205|      3|  1000| Banglore|10-03-2025 15:30|          2500|\n",
      "|           206|      3|  1500|Hyderabad|10-03-2025 15:34|          2500|\n",
      "+--------------+-------+------+---------+----------------+--------------+\n",
      "\n"
     ]
    }
   ],
   "source": [
    "from pyspark.sql.window import Window\n",
    "df.agg(f.sum('amount')).show()\n",
    "df.groupBy('user_id').agg(f.sum('amount')).show()\n",
    "w_spec = Window.partitionBy('user_id')\n",
    "df.withColumn('uer_sum_amount', f.sum('amount').over(w_spec)).show()"
   ]
  },
  {
   "cell_type": "code",
   "execution_count": 11,
   "id": "6047fe72-6620-4a94-8656-95644f62c3a1",
   "metadata": {},
   "outputs": [
    {
     "name": "stdout",
     "output_type": "stream",
     "text": [
      "['_FOLLOWING_THRESHOLD', '_JAVA_MAX_LONG', '_JAVA_MIN_LONG', '_PRECEDING_THRESHOLD', '__annotations__', '__class__', '__delattr__', '__dict__', '__dir__', '__doc__', '__eq__', '__format__', '__ge__', '__getattribute__', '__getstate__', '__gt__', '__hash__', '__init__', '__init_subclass__', '__le__', '__lt__', '__module__', '__ne__', '__new__', '__reduce__', '__reduce_ex__', '__repr__', '__setattr__', '__sizeof__', '__str__', '__subclasshook__', '__weakref__', 'currentRow', 'orderBy', 'partitionBy', 'rangeBetween', 'rowsBetween', 'unboundedFollowing', 'unboundedPreceding']\n"
     ]
    }
   ],
   "source": [
    "from pyspark.sql.window import Window\n",
    "print(dir(Window))"
   ]
  },
  {
   "cell_type": "code",
   "execution_count": 12,
   "id": "71c9ef28-c5a6-4f25-bbf6-5a143016001c",
   "metadata": {},
   "outputs": [
    {
     "name": "stdout",
     "output_type": "stream",
     "text": [
      "+--------------+-------+------+---------+----------------+--------------+\n",
      "|transaction_id|user_id|amount| location|transaction_time|uer_sum_amount|\n",
      "+--------------+-------+------+---------+----------------+--------------+\n",
      "|           201|      1|   500|Hyderabad|10-03-2025 12:00|           500|\n",
      "|           202|      1|   700|Hyderabad|10-03-2025 12:04|          1200|\n",
      "|           203|      2|   200|Hyderabad|10-03-2025 14:00|          1400|\n",
      "|           204|      2|   250|  Chennai|10-03-2025 14:01|          1650|\n",
      "|           205|      3|  1000| Banglore|10-03-2025 15:30|          2650|\n",
      "|           206|      3|  1500|Hyderabad|10-03-2025 15:34|          4150|\n",
      "+--------------+-------+------+---------+----------------+--------------+\n",
      "\n",
      "+--------------+-------+------+---------+----------------+--------------+\n",
      "|transaction_id|user_id|amount| location|transaction_time|uer_sum_amount|\n",
      "+--------------+-------+------+---------+----------------+--------------+\n",
      "|           201|      1|   500|Hyderabad|10-03-2025 12:00|           500|\n",
      "|           202|      1|   700|Hyderabad|10-03-2025 12:04|           700|\n",
      "|           203|      2|   200|Hyderabad|10-03-2025 14:00|           700|\n",
      "|           204|      2|   250|  Chennai|10-03-2025 14:01|           700|\n",
      "|           205|      3|  1000| Banglore|10-03-2025 15:30|          1000|\n",
      "|           206|      3|  1500|Hyderabad|10-03-2025 15:34|          1500|\n",
      "+--------------+-------+------+---------+----------------+--------------+\n",
      "\n",
      "+--------------+-------+------+---------+----------------+--------------+\n",
      "|transaction_id|user_id|amount| location|transaction_time|uer_sum_amount|\n",
      "+--------------+-------+------+---------+----------------+--------------+\n",
      "|           201|      1|   500|Hyderabad|10-03-2025 12:00|           500|\n",
      "|           202|      1|   700|Hyderabad|10-03-2025 12:04|           500|\n",
      "|           203|      2|   200|Hyderabad|10-03-2025 14:00|           200|\n",
      "|           204|      2|   250|  Chennai|10-03-2025 14:01|           200|\n",
      "|           205|      3|  1000| Banglore|10-03-2025 15:30|           200|\n",
      "|           206|      3|  1500|Hyderabad|10-03-2025 15:34|           200|\n",
      "+--------------+-------+------+---------+----------------+--------------+\n",
      "\n"
     ]
    }
   ],
   "source": [
    "from pyspark.sql.window import Window\n",
    "w_spec = Window.rowsBetween(Window.unboundedPreceding, Window.currentRow)\n",
    "df.withColumn('uer_sum_amount', f.sum('amount').over(w_spec)).show()\n",
    "df.withColumn('uer_sum_amount', f.max('amount').over(w_spec)).show()\n",
    "df.withColumn('uer_sum_amount', f.min('amount').over(w_spec)).show()\n",
    "\n"
   ]
  },
  {
   "cell_type": "code",
   "execution_count": 13,
   "id": "02b687f0-5dd6-415c-ab4e-c0dcfbff90dd",
   "metadata": {},
   "outputs": [
    {
     "name": "stdout",
     "output_type": "stream",
     "text": [
      "+--------------+-------+------+---------+----------------+--------------+\n",
      "|transaction_id|user_id|amount| location|transaction_time|uer_sum_amount|\n",
      "+--------------+-------+------+---------+----------------+--------------+\n",
      "|           201|      1|   500|Hyderabad|10-03-2025 12:00|          4150|\n",
      "|           202|      1|   700|Hyderabad|10-03-2025 12:04|          4150|\n",
      "|           203|      2|   200|Hyderabad|10-03-2025 14:00|          4150|\n",
      "|           204|      2|   250|  Chennai|10-03-2025 14:01|          4150|\n",
      "|           205|      3|  1000| Banglore|10-03-2025 15:30|          4150|\n",
      "|           206|      3|  1500|Hyderabad|10-03-2025 15:34|          4150|\n",
      "+--------------+-------+------+---------+----------------+--------------+\n",
      "\n",
      "+--------------+-------+------+---------+----------------+--------------+\n",
      "|transaction_id|user_id|amount| location|transaction_time|uer_sum_amount|\n",
      "+--------------+-------+------+---------+----------------+--------------+\n",
      "|           201|      1|   500|Hyderabad|10-03-2025 12:00|          1500|\n",
      "|           202|      1|   700|Hyderabad|10-03-2025 12:04|          1500|\n",
      "|           203|      2|   200|Hyderabad|10-03-2025 14:00|          1500|\n",
      "|           204|      2|   250|  Chennai|10-03-2025 14:01|          1500|\n",
      "|           205|      3|  1000| Banglore|10-03-2025 15:30|          1500|\n",
      "|           206|      3|  1500|Hyderabad|10-03-2025 15:34|          1500|\n",
      "+--------------+-------+------+---------+----------------+--------------+\n",
      "\n",
      "+--------------+-------+------+---------+----------------+--------------+\n",
      "|transaction_id|user_id|amount| location|transaction_time|uer_sum_amount|\n",
      "+--------------+-------+------+---------+----------------+--------------+\n",
      "|           201|      1|   500|Hyderabad|10-03-2025 12:00|           200|\n",
      "|           202|      1|   700|Hyderabad|10-03-2025 12:04|           200|\n",
      "|           203|      2|   200|Hyderabad|10-03-2025 14:00|           200|\n",
      "|           204|      2|   250|  Chennai|10-03-2025 14:01|           200|\n",
      "|           205|      3|  1000| Banglore|10-03-2025 15:30|           200|\n",
      "|           206|      3|  1500|Hyderabad|10-03-2025 15:34|           200|\n",
      "+--------------+-------+------+---------+----------------+--------------+\n",
      "\n"
     ]
    }
   ],
   "source": [
    "from pyspark.sql.window import Window\n",
    "w_spec = Window.rowsBetween(Window.unboundedPreceding, Window.unboundedFollowing)\n",
    "df.withColumn('uer_sum_amount', f.sum('amount').over(w_spec)).show()\n",
    "df.withColumn('uer_sum_amount', f.max('amount').over(w_spec)).show()\n",
    "df.withColumn('uer_sum_amount', f.min('amount').over(w_spec)).show()\n",
    "\n"
   ]
  },
  {
   "cell_type": "code",
   "execution_count": 19,
   "id": "47fdeac6-0bbf-495b-886f-d7bc84c4bc59",
   "metadata": {},
   "outputs": [
    {
     "name": "stdout",
     "output_type": "stream",
     "text": [
      "+--------------+-------+------+---------+----------------+-----------+----------------+\n",
      "|transaction_id|user_id|amount| location|transaction_time|amount_rank|amount_denserank|\n",
      "+--------------+-------+------+---------+----------------+-----------+----------------+\n",
      "|           206|      3|  1500|Hyderabad|10-03-2025 15:34|          1|               1|\n",
      "|           208|      3|  1500|Hyderabad|10-03-2025 15:34|          1|               1|\n",
      "|           205|      3|  1000| Banglore|10-03-2025 15:30|          3|               2|\n",
      "|           207|      3|  1000| Banglore|10-03-2025 15:30|          3|               2|\n",
      "|           202|      1|   700|Hyderabad|10-03-2025 12:04|          5|               3|\n",
      "|           210|      1|   700|Hyderabad|10-03-2025 12:04|          5|               3|\n",
      "|           201|      1|   500|Hyderabad|10-03-2025 12:00|          7|               4|\n",
      "|           209|      1|   500|Hyderabad|10-03-2025 12:00|          7|               4|\n",
      "|           204|      2|   250|  Chennai|10-03-2025 14:01|          9|               5|\n",
      "|           203|      2|   200|Hyderabad|10-03-2025 14:00|         10|               6|\n",
      "+--------------+-------+------+---------+----------------+-----------+----------------+\n",
      "\n"
     ]
    }
   ],
   "source": [
    "from pyspark.sql.window import Window\n",
    "df =spark.read.csv('data\\\\joins\\\\user_transactions.csv', header=True, inferSchema=True)\n",
    "w_spec = Window.orderBy(f.col('amount').desc())\n",
    "df = df.withColumn('amount_rank', f.rank().over(w_spec))\n",
    "df.withColumn('amount_denserank', f.dense_rank().over(w_spec)).show()"
   ]
  },
  {
   "cell_type": "code",
   "execution_count": null,
   "id": "c0daeebf-ea62-406f-9274-7b11ad5d85e2",
   "metadata": {},
   "outputs": [],
   "source": []
  }
 ],
 "metadata": {
  "kernelspec": {
   "display_name": "Python 3 (ipykernel)",
   "language": "python",
   "name": "python3"
  },
  "language_info": {
   "codemirror_mode": {
    "name": "ipython",
    "version": 3
   },
   "file_extension": ".py",
   "mimetype": "text/x-python",
   "name": "python",
   "nbconvert_exporter": "python",
   "pygments_lexer": "ipython3",
   "version": "3.12.7"
  }
 },
 "nbformat": 4,
 "nbformat_minor": 5
}
